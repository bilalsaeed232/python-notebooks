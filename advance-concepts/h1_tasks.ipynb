{
 "cells": [
  {
   "cell_type": "markdown",
   "metadata": {},
   "source": [
    "# Home Assignment 1"
   ]
  },
  {
   "cell_type": "markdown",
   "metadata": {},
   "source": [
    "You should work on the assignement in groups of two students. Upload your solution as a jupyter notebook to moodle by *27th of May 23:59h*. The deadline is strict. Do not forget to specify the names of _all_ contributing students in the jupyter notebook.\n",
    "\n",
    "Please make sure that your intermediate results follow the required naming conventions, otherwise point deductions will apply.\n",
    "\n",
    "You should add comments to your code where necessary and print the relevant results.\n",
    "You can use code snippets (few lines of code), but you have to cite all your sources! Copying uncited sources or solutions of your fellow students will be (without warning) counted as plagiarism and expulsion from the course.\n",
    "\n",
    "\n"
   ]
  },
  {
   "cell_type": "markdown",
   "metadata": {},
   "source": [
    "## 1. abgeordnetenwatch.de"
   ]
  },
  {
   "cell_type": "markdown",
   "metadata": {},
   "source": [
    "abgeordnetenwatch.de is a website that allows to ask questions to politicians online and receive answers. They also provide an API to obtain data on politicians: https://www.abgeordnetenwatch.de/api/\n",
    "\n",
    "Use the API to obtain data of all candidates for the state parliament of bavaria. Put together a pandas dataframe with five columns: \n",
    "* first name\n",
    "* last name\n",
    "* party\n",
    "* gender\n",
    "* age (you can calculate it from the birthyear)\n",
    "\n",
    "Store this data frame in a variable called 'df_politicians'. \n"
   ]
  },
  {
   "cell_type": "code",
   "execution_count": null,
   "metadata": {},
   "outputs": [],
   "source": []
  },
  {
   "cell_type": "markdown",
   "metadata": {},
   "source": [
    "What is the most frequent last name in the parliament?"
   ]
  },
  {
   "cell_type": "code",
   "execution_count": null,
   "metadata": {},
   "outputs": [],
   "source": []
  },
  {
   "cell_type": "markdown",
   "metadata": {},
   "source": [
    "Compute the gender ratio (i.e., % of female deputies) for each party. Store the results in a dictionary with the name 'gender_ratios' with the party name as key and the percentage of females as value.\n",
    "\n",
    "Visualize results in a bar chart."
   ]
  },
  {
   "cell_type": "code",
   "execution_count": null,
   "metadata": {},
   "outputs": [],
   "source": []
  },
  {
   "cell_type": "markdown",
   "metadata": {},
   "source": [
    "Compare the age distribution for the green party and the conservative CSU party. \n",
    "For this, plot a semi-transparent histogram (comparable to this: https://i.stack.imgur.com/UI5c0.png) with the age distribution of the two parties"
   ]
  },
  {
   "cell_type": "code",
   "execution_count": null,
   "metadata": {},
   "outputs": [],
   "source": []
  },
  {
   "cell_type": "markdown",
   "metadata": {},
   "source": [
    "## 2. History in Wikipedia"
   ]
  },
  {
   "cell_type": "markdown",
   "metadata": {},
   "source": [
    "Download the html text from the article 'History_of_Germany' from the English Wikipedia. Store the results in a string 'full_html'"
   ]
  },
  {
   "cell_type": "code",
   "execution_count": null,
   "metadata": {},
   "outputs": [],
   "source": []
  },
  {
   "cell_type": "markdown",
   "metadata": {},
   "source": [
    "Extract all links to other Wikipedia page from this article. Store them in a list called 'all_links' in alphabetical order of the target article name."
   ]
  },
  {
   "cell_type": "code",
   "execution_count": null,
   "metadata": {},
   "outputs": [],
   "source": []
  },
  {
   "cell_type": "markdown",
   "metadata": {},
   "source": [
    "Download the first 10 articles from this list and store the html contents in one string each. Put all strings in a list called 'full_linked_texts'"
   ]
  },
  {
   "cell_type": "code",
   "execution_count": null,
   "metadata": {},
   "outputs": [],
   "source": []
  },
  {
   "cell_type": "markdown",
   "metadata": {},
   "source": [
    "Write a function 'extract_years (string_input)' that gets a string and returns how often a certain year number from 1000-2019 occurs. You can assume that each number between 1000 and 2019 is a year number. The result is a dictionary with year numbers as keys, and the number of occurrences as values.\n",
    "\n",
    "Example: extract_years(\"The king reigned from 1245 to 1268. He died in 1268.\") should return the dictionary {1245: 1, 1268:2}"
   ]
  },
  {
   "cell_type": "code",
   "execution_count": null,
   "metadata": {},
   "outputs": [],
   "source": []
  },
  {
   "cell_type": "markdown",
   "metadata": {},
   "source": [
    "Use your function on all 11 downloaded Wikipedia article raw texts to compute the overall number of occurrences for each year number.\n",
    "Store the aggregated counts (summarized over all articles) in a dictionary called 'overall_counts'"
   ]
  },
  {
   "cell_type": "code",
   "execution_count": null,
   "metadata": {},
   "outputs": [],
   "source": []
  },
  {
   "cell_type": "markdown",
   "metadata": {},
   "source": [
    "Visualize the numbers of occurrences in a timeline."
   ]
  },
  {
   "cell_type": "code",
   "execution_count": null,
   "metadata": {},
   "outputs": [],
   "source": []
  },
  {
   "cell_type": "code",
   "execution_count": null,
   "metadata": {},
   "outputs": [],
   "source": []
  }
 ],
 "metadata": {
  "kernelspec": {
   "display_name": "Python 3",
   "language": "python",
   "name": "python3"
  },
  "language_info": {
   "codemirror_mode": {
    "name": "ipython",
    "version": 3
   },
   "file_extension": ".py",
   "mimetype": "text/x-python",
   "name": "python",
   "nbconvert_exporter": "python",
   "pygments_lexer": "ipython3",
   "version": "3.6.4"
  },
  "toc": {
   "colors": {
    "hover_highlight": "#DAA520",
    "navigate_num": "#000000",
    "navigate_text": "#333333",
    "running_highlight": "#FF0000",
    "selected_highlight": "#FFD700",
    "sidebar_border": "#EEEEEE",
    "wrapper_background": "#FFFFFF"
   },
   "moveMenuLeft": true,
   "nav_menu": {
    "height": "279px",
    "width": "252px"
   },
   "navigate_menu": true,
   "number_sections": true,
   "sideBar": true,
   "threshold": 4,
   "toc_cell": false,
   "toc_section_display": "block",
   "toc_window_display": false,
   "widenNotebook": false
  },
  "varInspector": {
   "cols": {
    "lenName": 16,
    "lenType": 16,
    "lenVar": 40
   },
   "kernels_config": {
    "python": {
     "delete_cmd_postfix": "",
     "delete_cmd_prefix": "del ",
     "library": "var_list.py",
     "varRefreshCmd": "print(var_dic_list())"
    },
    "r": {
     "delete_cmd_postfix": ") ",
     "delete_cmd_prefix": "rm(",
     "library": "var_list.r",
     "varRefreshCmd": "cat(var_dic_list()) "
    }
   },
   "types_to_exclude": [
    "module",
    "function",
    "builtin_function_or_method",
    "instance",
    "_Feature"
   ],
   "window_display": false
  }
 },
 "nbformat": 4,
 "nbformat_minor": 2
}
